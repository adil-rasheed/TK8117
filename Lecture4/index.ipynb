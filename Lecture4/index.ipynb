{
 "cells": [
  {
   "cell_type": "markdown",
   "metadata": {},
   "source": [
    "# Course material\n",
    "\n",
    "* [PCA: Algorithms](PCA-Algorithms.ipynb) \n",
    "\n",
    "* [PCA: Insight](PCA-GettingInsight.ipynb)\n",
    "\n",
    "* [PCA: Residual for anomaly detection](PCA_Residuals.ipynb)\n",
    "\n",
    "* [PCA: Clustering and denoising](PCA-Clustering.ipynb)\n",
    "\n",
    "* [PCA: Analyzing CFD simulation data](PCA-Cylinder.ipynb)"
   ]
  },
  {
   "cell_type": "code",
   "execution_count": null,
   "metadata": {},
   "outputs": [],
   "source": []
  }
 ],
 "metadata": {
  "kernelspec": {
   "display_name": "Python 3",
   "language": "python",
   "name": "python3"
  },
  "language_info": {
   "codemirror_mode": {
    "name": "ipython",
    "version": 3
   },
   "file_extension": ".py",
   "mimetype": "text/x-python",
   "name": "python",
   "nbconvert_exporter": "python",
   "pygments_lexer": "ipython3",
   "version": "3.7.1"
  }
 },
 "nbformat": 4,
 "nbformat_minor": 2
}
